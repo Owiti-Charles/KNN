{
 "cells": [
  {
   "cell_type": "code",
   "execution_count": 1,
   "id": "66ccec49",
   "metadata": {},
   "outputs": [],
   "source": [
    "import numpy as np\n",
    "import pandas as pd\n",
    "import matplotlib as mpl\n",
    "import matplotlib.pyplot as plt\n",
    "from sklearn.model_selection import train_test_split\n",
    "from sklearn.tree import DecisionTreeClassifier\n",
    "from sklearn.ensemble import RandomForestClassifier\n",
    "from sklearn.metrics import roc_curve, auc"
   ]
  },
  {
   "cell_type": "code",
   "execution_count": 2,
   "id": "47899fc9",
   "metadata": {},
   "outputs": [
    {
     "name": "stdout",
     "output_type": "stream",
     "text": [
      "Hyperparameters of DecisionTreeClassifier:\n",
      "ccp_alpha: 0.0\n",
      "class_weight: None\n",
      "criterion: gini\n",
      "max_depth: None\n",
      "max_features: None\n",
      "max_leaf_nodes: None\n",
      "min_impurity_decrease: 0.0\n",
      "min_samples_leaf: 1\n",
      "min_samples_split: 2\n",
      "min_weight_fraction_leaf: 0.0\n",
      "monotonic_cst: None\n",
      "random_state: None\n",
      "splitter: best\n"
     ]
    }
   ],
   "source": [
    "# Hypertuning parameters\n",
    "\n",
    "dt_classifier = DecisionTreeClassifier()\n",
    "\n",
    "# get hyperparameters\n",
    "hyperparameters = dt_classifier.get_params()\n",
    "\n",
    "# print hyperparameters\n",
    "print(\"Hyperparameters of DecisionTreeClassifier:\")\n",
    "for param, value in hyperparameters.items():\n",
    "    print(f\"{param}: {value}\")"
   ]
  },
  {
   "cell_type": "code",
   "execution_count": 3,
   "id": "00e4cbf5",
   "metadata": {},
   "outputs": [
    {
     "name": "stdout",
     "output_type": "stream",
     "text": [
      "\n",
      "Hyperparameters of LogisticRegression:\n",
      "C: 1.0\n",
      "class_weight: None\n",
      "dual: False\n",
      "fit_intercept: True\n",
      "intercept_scaling: 1\n",
      "l1_ratio: None\n",
      "max_iter: 100\n",
      "multi_class: deprecated\n",
      "n_jobs: None\n",
      "penalty: l2\n",
      "random_state: None\n",
      "solver: lbfgs\n",
      "tol: 0.0001\n",
      "verbose: 0\n",
      "warm_start: False\n"
     ]
    }
   ],
   "source": [
    "# Logistic Regression hyperparameters\n",
    "from sklearn.linear_model import LogisticRegression\n",
    "log_reg_classifier = LogisticRegression()\n",
    "log_reg_hyperparameters = log_reg_classifier.get_params()\n",
    "print(\"\\nHyperparameters of LogisticRegression:\")\n",
    "for param, value in log_reg_hyperparameters.items():\n",
    "    print(f\"{param}: {value}\")"
   ]
  },
  {
   "cell_type": "code",
   "execution_count": 4,
   "id": "de3855a5",
   "metadata": {},
   "outputs": [
    {
     "name": "stdout",
     "output_type": "stream",
     "text": [
      "\n",
      "Hyperparameters of LinearRegression:\n",
      "copy_X: True\n",
      "fit_intercept: True\n",
      "n_jobs: None\n",
      "positive: False\n"
     ]
    }
   ],
   "source": [
    "# linear regression hyperparameters\n",
    "from sklearn.linear_model import LinearRegression\n",
    "linear_reg_classifier = LinearRegression()\n",
    "linear_reg_hyperparameters = linear_reg_classifier.get_params()\n",
    "print(\"\\nHyperparameters of LinearRegression:\")\n",
    "for param, value in linear_reg_hyperparameters.items():\n",
    "    print(f\"{param}: {value}\")"
   ]
  },
  {
   "cell_type": "code",
   "execution_count": 5,
   "id": "10795285",
   "metadata": {},
   "outputs": [],
   "source": [
    "# USe GridSearchCV to find the best hyperparameters\n",
    "from sklearn.model_selection import GridSearchCV\n",
    "\n",
    "data = pd.read_csv('bigml_59c28831336c6604c800002a.csv')\n",
    "data.head()\n",
    "\n",
    "X = data.drop(columns=['churn', 'voice mail plan', 'international plan', 'phone number', 'state'])\n",
    "y = data['churn']\n",
    "\n",
    "X_train, X_test, y_train, y_test = train_test_split(X, y, test_size=0.2, random_state=42)\n",
    "\n"
   ]
  },
  {
   "cell_type": "code",
   "execution_count": 9,
   "id": "2644c179",
   "metadata": {},
   "outputs": [
    {
     "name": "stdout",
     "output_type": "stream",
     "text": [
      "\n",
      "Best hyperparameters for Decision Tree Classifier:\n",
      "criterion: gini\n",
      "max_depth: 5\n",
      "min_samples_leaf: 2\n",
      "min_samples_split: 5\n"
     ]
    }
   ],
   "source": [
    "# Decision Tree Classifier\n",
    "dt_classifier = DecisionTreeClassifier(random_state=42)\n",
    "\n",
    "# Define the hyperparameters and their values \n",
    "param_grid = {\n",
    "    'criterion': ['gini', 'entropy'],\n",
    "    'max_depth': [None, 5, 10, 15],\n",
    "    'min_samples_split': [2, 5, 10],\n",
    "    'min_samples_leaf': [2, 3, 4],\n",
    "}\n",
    "\n",
    "# Create a GridSearchCV object\n",
    "grid_search = GridSearchCV(estimator=dt_classifier, param_grid=param_grid,\n",
    "                           scoring='accuracy', cv=5)\n",
    "# Fit the grid search to the training data\n",
    "grid_search.fit(X_train, y_train)\n",
    "# Get the best hyperparameters\n",
    "best_hyperparameters = grid_search.best_params_\n",
    "print(\"\\nBest hyperparameters for Decision Tree Classifier:\")\n",
    "for param, value in best_hyperparameters.items():\n",
    "    print(f\"{param}: {value}\")"
   ]
  },
  {
   "cell_type": "markdown",
   "id": "0cc9d5aa",
   "metadata": {},
   "source": [
    "Pipeline\n"
   ]
  },
  {
   "cell_type": "code",
   "execution_count": 17,
   "id": "77d2ac9d",
   "metadata": {},
   "outputs": [
    {
     "name": "stdout",
     "output_type": "stream",
     "text": [
      "\n",
      "Best hyperparameters for Decision Tree Classifier with pipeline:\n",
      "classifier__criterion: gini\n",
      "classifier__max_depth: 10\n",
      "classifier__min_samples_leaf: 2\n",
      "classifier__min_samples_split: 10\n",
      "\n",
      "Best score: 0.9432981707344525\n",
      "\n",
      "Best parameters: {'classifier__criterion': 'gini', 'classifier__max_depth': 10, 'classifier__min_samples_leaf': 2, 'classifier__min_samples_split': 10}\n"
     ]
    }
   ],
   "source": [
    "# pipeline\n",
    "from sklearn.pipeline import Pipeline\n",
    "from sklearn.preprocessing import StandardScaler, OneHotEncoder\n",
    "from sklearn.compose import ColumnTransformer\n",
    "\n",
    "churn_data = pd.read_csv('bigml_59c28831336c6604c800002a.csv')\n",
    "churn_data.head()\n",
    "\n",
    "\n",
    "X = churn_data.drop(['state', 'phone number'], axis=1)\n",
    "y = churn_data['churn']\n",
    "\n",
    "categorical_features = ['international plan', 'voice mail plan']\n",
    "numerical_features = X.select_dtypes(include=['int64', 'float64']).columns.tolist()\n",
    "numerical_transformer = StandardScaler()\n",
    "categorical_transformer = OneHotEncoder()\n",
    "preprocessor = ColumnTransformer(\n",
    "    transformers=[\n",
    "        ('num', numerical_transformer, numerical_features),\n",
    "        ('cat', categorical_transformer, categorical_features)\n",
    "    ]\n",
    ")\n",
    "pipeline = Pipeline(steps=[('preprocessor', preprocessor),\n",
    "                           ('classifier', DecisionTreeClassifier(random_state=42))])\n",
    "\n",
    "# Define the hyperparameters and their values\n",
    "param_grid = {\n",
    "    'classifier__criterion': ['gini', 'entropy'],\n",
    "    'classifier__max_depth': [None, 5, 10, 15],\n",
    "    'classifier__min_samples_split': [2, 5, 10],\n",
    "    'classifier__min_samples_leaf': [2, 3, 4],\n",
    "}\n",
    "# Create a GridSearchCV object\n",
    "grid_search = GridSearchCV(estimator=pipeline, param_grid=param_grid,\n",
    "                           scoring='accuracy', cv=5)\n",
    "# Fit the grid search to the training data\n",
    "grid_search.fit(X, y)\n",
    "# Get the best hyperparameters\n",
    "best_hyperparameters = grid_search.best_params_\n",
    "print(\"\\nBest hyperparameters for Decision Tree Classifier with pipeline:\")\n",
    "for param, value in best_hyperparameters.items():\n",
    "    print(f\"{param}: {value}\")\n",
    "\n",
    "# best score\n",
    "best_score = grid_search.best_score_\n",
    "print(f\"\\nBest score: {best_score}\")\n",
    "# best parameter\n",
    "best_params = grid_search.best_params_\n",
    "print(f\"\\nBest parameters: {best_params}\")\n"
   ]
  }
 ],
 "metadata": {
  "kernelspec": {
   "display_name": "venv",
   "language": "python",
   "name": "python3"
  },
  "language_info": {
   "codemirror_mode": {
    "name": "ipython",
    "version": 3
   },
   "file_extension": ".py",
   "mimetype": "text/x-python",
   "name": "python",
   "nbconvert_exporter": "python",
   "pygments_lexer": "ipython3",
   "version": "3.12.3"
  }
 },
 "nbformat": 4,
 "nbformat_minor": 5
}
